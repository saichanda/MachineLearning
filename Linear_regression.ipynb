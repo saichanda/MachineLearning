{
 "cells": [
  {
   "cell_type": "markdown",
   "metadata": {},
   "source": [
    "# Linear Regression"
   ]
  },
  {
   "cell_type": "code",
   "execution_count": 1,
   "metadata": {
    "collapsed": false
   },
   "outputs": [],
   "source": [
    "import numpy as np\n",
    "from sklearn.datasets import load_boston\n",
    "X = load_boston()"
   ]
  },
  {
   "cell_type": "code",
   "execution_count": 2,
   "metadata": {
    "collapsed": false
   },
   "outputs": [],
   "source": [
    "# split the dataset into train and test\n",
    "from sklearn.cross_validation import train_test_split\n",
    "X_tr, X_te, y_tr, y_te = train_test_split(X.data, X.target)"
   ]
  },
  {
   "cell_type": "code",
   "execution_count": 3,
   "metadata": {
    "collapsed": true
   },
   "outputs": [],
   "source": [
    "m = len(X_tr)\n",
    "x0 = np.ones((m,1))\n",
    "X = np.hstack((x0,X_tr))\n",
    "Y = np.array(y_tr)\n",
    "B = np.array(np.zeros(14))\n",
    "alpha = 1e-6"
   ]
  },
  {
   "cell_type": "code",
   "execution_count": 4,
   "metadata": {
    "collapsed": true
   },
   "outputs": [],
   "source": [
    "def cost_function(X,Y,B):\n",
    "    m = len(Y)\n",
    "    J = np.sum((np.matmul(X,B) - Y)**2) / (2*m)\n",
    "    return J"
   ]
  },
  {
   "cell_type": "code",
   "execution_count": 5,
   "metadata": {
    "collapsed": true
   },
   "outputs": [],
   "source": [
    "def Grad_descent(X,Y,B,alpha,iterations):\n",
    "    cost = [0]*iterations\n",
    "    m = len(Y)\n",
    "    for i in range(iterations):\n",
    "        hypo = np.matmul(X,B)\n",
    "        loss = hypo - Y\n",
    "        grad = np.matmul(loss,X)/m\n",
    "        B = B - (alpha * grad)\n",
    "        J = cost_function(X, Y, B)\n",
    "        cost[i] = J\n",
    "    return B, cost\n",
    "        "
   ]
  },
  {
   "cell_type": "code",
   "execution_count": 6,
   "metadata": {
    "collapsed": false
   },
   "outputs": [],
   "source": [
    "Icost = cost_function(X,Y,B)\n",
    "finalB, finalCost = Grad_descent(X,Y,B,alpha,100000)"
   ]
  },
  {
   "cell_type": "code",
   "execution_count": 7,
   "metadata": {
    "collapsed": false
   },
   "outputs": [
    {
     "name": "stdout",
     "output_type": "stream",
     "text": [
      " Error :=  7.4644886898\n"
     ]
    }
   ],
   "source": [
    "def rmse(Y_actual, Y_predicted):\n",
    "    error = np.sqrt(sum((Y_actual - Y_predicted) ** 2) / len(Y_actual))\n",
    "    return error\n",
    "\n",
    "n = len(X_te)\n",
    "x0 = np.ones((n,1))\n",
    "X_te = (np.hstack((x0,X_te)))\n",
    "\n",
    "Y_predicted = np.matmul(X_te,finalB)\n",
    "\n",
    "print (\" Error := \", rmse(y_te,Y_predicted))"
   ]
  },
  {
   "cell_type": "markdown",
   "metadata": {},
   "source": [
    "# Observations -"
   ]
  },
  {
   "cell_type": "markdown",
   "metadata": {
    "collapsed": true
   },
   "source": [
    "|# Iterations | lr|RMSE|\n",
    "|:-------:|:------:|:-----:|:----:|\n",
    "| 100000| 1e-6 | 7.464|\n",
    "| 100000| 1e-7 | 9.005 |\n",
    "| 10000| 1e-6 | 8.284|\n",
    "| 10000| 1e-7 | 8.344 |\n",
    "|1000| 1e-6 | 8.727|\n",
    "|1000| 1e-7 | 8.303 |"
   ]
  },
  {
   "cell_type": "markdown",
   "metadata": {
    "collapsed": true
   },
   "source": [
    "For a learning rate above 1e-6, the error is unbounded, hence it is assumed to be very low.\n",
    "\n",
    "For a gradient descent function which is being used to reduce the loss incurred by the model, the error term oscillates.\n",
    "\n",
    "The optimum(minimum) error is obtained when the model is run for 100000 iterations with a learning rate of 1e-6, with an error rate of 7.46 which is the next best to the actual error obtained when run using the sklearn.linear_model() function On the boston housing dataset."
   ]
  },
  {
   "cell_type": "code",
   "execution_count": null,
   "metadata": {
    "collapsed": true
   },
   "outputs": [],
   "source": []
  }
 ],
 "metadata": {
  "anaconda-cloud": {},
  "kernelspec": {
   "display_name": "Python 2",
   "language": "python",
   "name": "python2"
  },
  "language_info": {
   "codemirror_mode": {
    "name": "ipython",
    "version": 3
   },
   "file_extension": ".py",
   "mimetype": "text/x-python",
   "name": "python",
   "nbconvert_exporter": "python",
   "pygments_lexer": "ipython3",
   "version": "3.5.4"
  }
 },
 "nbformat": 4,
 "nbformat_minor": 2
}
